{
 "cells": [
  {
   "cell_type": "code",
   "execution_count": null,
   "id": "8f3b079f",
   "metadata": {},
   "outputs": [],
   "source": [
    "# Function to plot a network on a map using GeoPandas and NetworkX\n",
    "import pandas as pd\n",
    "import networkx as nx\n",
    "import matplotlib.pyplot as plt\n",
    "import geopandas as gpd\n",
    "from shapely.geometry import Point\n",
    "import contextily as ctx  # For background tiles\n",
    "\n",
    "def plot_network_on_map(node_df, edge_list, title=\"Network Map\"):\n",
    "    # Create GeoDataFrame of nodes\n",
    "    geometry = [Point(xy) for xy in zip(node_df['longitude'], node_df['latitude'])]\n",
    "    gdf_nodes = gpd.GeoDataFrame(node_df, geometry=geometry, crs=\"EPSG:4326\").to_crs(epsg=3857)\n",
    "\n",
    "    # Create NetworkX graph\n",
    "    G = nx.Graph()\n",
    "    for _, row in gdf_nodes.iterrows():\n",
    "        G.add_node(row['node_id'], pos=(row.geometry.x, row.geometry.y))\n",
    "\n",
    "    G.add_edges_from(edge_list)\n",
    "\n",
    "    # Get positions for drawing\n",
    "    pos = nx.get_node_attributes(G, 'pos')\n",
    "\n",
    "    # Plotting\n",
    "    fig, ax = plt.subplots(figsize=(20, 10))\n",
    "    gdf_nodes.plot(ax=ax, color='red', markersize=10)\n",
    "\n",
    "    nx.draw_networkx_edges(G, pos, ax=ax, alpha=0.5)\n",
    "    nx.draw_networkx_nodes(G, pos, node_size=10, ax=ax, node_color='red')\n",
    "\n",
    "    # Add basemap\n",
    "    ctx.add_basemap(ax, source=ctx.providers.OpenStreetMap.Mapnik)\n",
    "    ax.set_title(title)\n",
    "    ax.set_axis_off()\n",
    "    plt.show()\n",
    "\n",
    "# Plot the first layer\n",
    "layer_1 = layers[0]\n",
    "edges_1 = layer_1['edges']\n",
    "edges_1 = [(u, v) for u, v in edges_1]  # Convert to list of tuples\n",
    "plot_network_on_map(df_airports, edges_1, title=\"Layer 1 Airport Connections\")\n"
   ]
  }
 ],
 "metadata": {
  "language_info": {
   "name": "python"
  }
 },
 "nbformat": 4,
 "nbformat_minor": 5
}

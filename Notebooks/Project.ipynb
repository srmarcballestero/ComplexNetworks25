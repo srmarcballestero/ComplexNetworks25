{
 "cells": [
  {
   "cell_type": "code",
   "execution_count": 1,
   "id": "f57f0780",
   "metadata": {},
   "outputs": [
    {
     "data": {
      "text/plain": [
       "'Complex Networks Analysis Project.\\n\\n* @File    :   Project.ipynb\\n* @Time    :   2025/04/05 18:02:17\\n* @Authors :   Marc Ballestero Ribó and Arnau Jutglar Puig\\n* @Version :   0\\n* @Contact :   marcballestero@ub.edu, ajutglpu7@alumnes.ub.edu\\n* @License :   GNU GPL v3.0\\n* @Desc    :   None\\n'"
      ]
     },
     "execution_count": 1,
     "metadata": {},
     "output_type": "execute_result"
    }
   ],
   "source": [
    "\"\"\"Complex Networks Analysis Project.\n",
    "\n",
    "* @File    :   Project.ipynb\n",
    "* @Time    :   2025/04/05 18:02:17\n",
    "* @Authors :   Marc Ballestero Ribó and Arnau Jutglar Puig\n",
    "* @Version :   0\n",
    "* @Contact :   marcballestero@ub.edu, ajutglpu7@alumnes.ub.edu\n",
    "* @License :   GNU GPL v3.0\n",
    "* @Desc    :   None\n",
    "\"\"\"\n"
   ]
  },
  {
   "cell_type": "markdown",
   "id": "dd283b3e",
   "metadata": {},
   "source": [
    "# Complex Networks Analysis Project: A Study of the Air Transportation Multiplex Dataset\n",
    "\n",
    "This notebook is devoted to presenting all the code and reasonings of our project for the Complex Networks Analysis course of the Master in Fundamental Principles of Data Science.\n",
    "\n",
    "Here, we analyze the \"Air Transportation Multiplex\" dataset, which contains a multiplex network of airline routes among European airports, where each of the 37 edge types represents routes by a different airline. It is an undirected, multiplex and unweighted network.\n",
    "\n",
    "The notebook is organized in sections each one corresponding to a working week/period. Here's a summary of all the work done:\n",
    "\n",
    "- **`04/04/2025 → 11/04/2025:`** data reading, network visualization.\n",
    "- **`11/04/2025 → 25/04/2025:`**\n",
    "- **`25/04/2025 → 09/05/2025:`**\n",
    "- **`09/04/2025 → 16/05/2025:`**\n",
    "- **`16/05/2025 → 23/05/2025:`**\n",
    "- **`23/05/2025 → 30/05/2025:`**\n",
    "\n",
    "***"
   ]
  },
  {
   "cell_type": "markdown",
   "id": "1ece5271",
   "metadata": {},
   "source": [
    "### Necessary Imports and Directory Management\n"
   ]
  },
  {
   "cell_type": "code",
   "execution_count": 2,
   "id": "cc68c584",
   "metadata": {},
   "outputs": [],
   "source": [
    "# Reset the kernel\n",
    "%reset -f\n",
    "\n",
    "# Necessary imports\n",
    "import folium\n",
    "import numpy as np\n",
    "import pandas as pd\n",
    "import matplotlib.pyplot as plt\n",
    "import seaborn as sns\n",
    "import networkx as nx\n",
    "\n",
    "from pathlib import Path\n"
   ]
  },
  {
   "cell_type": "code",
   "execution_count": 3,
   "id": "c2b8931c",
   "metadata": {},
   "outputs": [],
   "source": [
    "# Directories\n",
    "DATA_DIR = Path(\"../Data\")\n"
   ]
  },
  {
   "cell_type": "markdown",
   "id": "e0bc45a0",
   "metadata": {},
   "source": [
    "***"
   ]
  },
  {
   "cell_type": "markdown",
   "id": "c4661be6",
   "metadata": {},
   "source": [
    "## **04/04/2025 → 11/04/2025**\n",
    "\n",
    "This week, we have focused our efforts on understanding the format of our dataset, loading the network and doing some basic exploration of it."
   ]
  },
  {
   "cell_type": "markdown",
   "id": "d65ecb49",
   "metadata": {},
   "source": [
    "### Data Reading"
   ]
  },
  {
   "cell_type": "code",
   "execution_count": 4,
   "id": "385c3844",
   "metadata": {},
   "outputs": [],
   "source": [
    "# Read the file containing the airport information\n",
    "df_airports = pd.read_csv(\n",
    "    DATA_DIR / \"airports.tsv\",\n",
    "    sep=\"\\t\",\n",
    "    header=None,\n",
    "    names=[\"node_id\", \"icao_code\", \"longitude\", \"latitude\"],\n",
    ")\n"
   ]
  },
  {
   "cell_type": "code",
   "execution_count": 5,
   "id": "bd05c114",
   "metadata": {},
   "outputs": [],
   "source": [
    "# Read the file containing the airport connections\n",
    "def read_multilayer_connections(\n",
    "    file_path: Path,\n",
    ") -> list[dict]:\n",
    "    \"\"\"Reads the multilayer connections from a file.\n",
    "\n",
    "    Args:\n",
    "        file_path (Path) -- Path to the file containing the multilayer connections.\n",
    "\n",
    "    Returns:\n",
    "        list -- List containing the multilayer connections.\n",
    "    \"\"\"\n",
    "    layers = []\n",
    "\n",
    "    with Path.open(file_path, \"r\") as f_in:\n",
    "        lines = [line.strip() for line in f_in if line.strip()]\n",
    "\n",
    "    i = 0\n",
    "    while i < len(lines):\n",
    "        num_nodes = int(lines[i])\n",
    "        i += 1\n",
    "\n",
    "        edges = set()\n",
    "        for _ in range(num_nodes):\n",
    "            parts = lines[i].split()\n",
    "            node_id = int(parts[0])\n",
    "            neighbors = list(map(int, parts[2:]))\n",
    "            for neighbor in neighbors:\n",
    "                edge = tuple(sorted((node_id, neighbor)))  # Undirected\n",
    "                edges.add(edge)\n",
    "            i += 1\n",
    "\n",
    "        layers.append({\n",
    "            \"active_nodes\": num_nodes,\n",
    "            \"edges\": edges\n",
    "        })\n",
    "\n",
    "    return layers\n"
   ]
  },
  {
   "cell_type": "code",
   "execution_count": 6,
   "id": "8d0427aa",
   "metadata": {},
   "outputs": [],
   "source": [
    "# Read the layers\n",
    "layers = read_multilayer_connections(DATA_DIR / \"network.txt\")\n"
   ]
  },
  {
   "cell_type": "markdown",
   "id": "0f3cb8f7",
   "metadata": {},
   "source": [
    "### Network Visualization"
   ]
  },
  {
   "cell_type": "code",
   "execution_count": 12,
   "id": "a55b7c62",
   "metadata": {},
   "outputs": [],
   "source": [
    "# Function to plot the graph as an interactive map\n",
    "def plot_interactive_map(\n",
    "    node_df: pd.DataFrame,\n",
    "    edge_list: list[tuple[int, int]],\n",
    ") -> folium.Map:\n",
    "    \"\"\"Plots an interactive map with nodes and edges.\n",
    "    Args:\n",
    "        node_df (pd.DataFrame) -- DataFrame containing node information.\n",
    "        edge_list (list[tuple[int, int]]) -- List of edges.\n",
    "    Returns:\n",
    "        folium.Map -- Interactive map with nodes and edges.\n",
    "    \"\"\"\n",
    "    center = [node_df[\"latitude\"].mean(), node_df[\"longitude\"].mean()]\n",
    "    m = folium.Map(location=center, zoom_start=4)\n",
    "\n",
    "    # Add nodes\n",
    "    for _, row in node_df.iterrows():\n",
    "        folium.CircleMarker(\n",
    "            location=[row[\"latitude\"], row[\"longitude\"]],\n",
    "            radius=3,\n",
    "            color=\"red\",\n",
    "            fill=True,\n",
    "            fill_color=\"red\"\n",
    "        ).add_to(m)\n",
    "\n",
    "    # Add edges\n",
    "    for n1, n2 in edge_list:\n",
    "        coord1 = node_df[node_df[\"node_id\"] == n1][[\"latitude\", \"longitude\"]].values[0]\n",
    "        coord2 = node_df[node_df[\"node_id\"] == n2][[\"latitude\", \"longitude\"]].values[0]\n",
    "        folium.PolyLine(locations=[coord1, coord2], color=\"blue\", weight=1).add_to(m)\n",
    "\n",
    "    return m\n"
   ]
  },
  {
   "cell_type": "code",
   "execution_count": null,
   "id": "25e5e160",
   "metadata": {},
   "outputs": [
    {
     "data": {
      "application/vnd.jupyter.widget-view+json": {
       "model_id": "01c14c879c9142d0a0022e904486109b",
       "version_major": 2,
       "version_minor": 0
      },
      "text/plain": [
       "Dropdown(description='Airline:', options=(('Lufthansa', 0), ('Ryanair', 1), ('Easyjet', 2), ('British Airways'…"
      ]
     },
     "metadata": {},
     "output_type": "display_data"
    },
    {
     "data": {
      "application/vnd.jupyter.widget-view+json": {
       "model_id": "3e35079065894132915d7827a1f3e880",
       "version_major": 2,
       "version_minor": 0
      },
      "text/plain": [
       "Output()"
      ]
     },
     "metadata": {},
     "output_type": "display_data"
    }
   ],
   "source": [
    "import pandas as pd\n",
    "import folium\n",
    "import ipywidgets as widgets\n",
    "from IPython.display import display, clear_output\n",
    "\n",
    "# Step 1: Load airline names from TSV\n",
    "# Assuming TSV has two columns: 'layer' and 'airline_name'\n",
    "airlines_df = pd.read_csv(DATA_DIR / \"airlines.tsv\", sep=\"\\t\")\n",
    "airline_names = airlines_df.sort_values(\"Id\")[\"Airline\"].tolist()\n",
    "\n",
    "# Step 2: Create dropdown with airline names\n",
    "airline_dropdown = widgets.Dropdown(\n",
    "    options=[(name, idx) for idx, name in enumerate(airline_names)],\n",
    "    description='Airline:',\n",
    "    style={'description_width': 'initial'}\n",
    ")\n",
    "\n",
    "# Output widget to hold the map\n",
    "map_output = widgets.Output()\n",
    "\n",
    "# Step 3: Define update function\n",
    "def update_map(change):\n",
    "    with map_output:\n",
    "        clear_output(wait=True)\n",
    "        layer_index = change['new']\n",
    "        m = plot_interactive_map(\n",
    "            node_df=df_airports,\n",
    "            edge_list=layers[layer_index]['edges'],\n",
    "        )\n",
    "        display(m)\n",
    "\n",
    "# Step 4: Connect dropdown to update function\n",
    "airline_dropdown.observe(update_map, names='value')\n",
    "\n",
    "# Display the widgets\n",
    "display(airline_dropdown, map_output)\n",
    "\n",
    "# Step 5: Trigger initial map\n",
    "airline_dropdown.value = 0  # or any initial valid index\n"
   ]
  }
 ],
 "metadata": {
  "kernelspec": {
   "display_name": "mscfpds",
   "language": "python",
   "name": "python3"
  },
  "language_info": {
   "codemirror_mode": {
    "name": "ipython",
    "version": 3
   },
   "file_extension": ".py",
   "mimetype": "text/x-python",
   "name": "python",
   "nbconvert_exporter": "python",
   "pygments_lexer": "ipython3",
   "version": "3.11.9"
  }
 },
 "nbformat": 4,
 "nbformat_minor": 5
}

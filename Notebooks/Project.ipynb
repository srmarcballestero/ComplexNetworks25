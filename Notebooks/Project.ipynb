{
 "cells": [
  {
   "cell_type": "code",
   "execution_count": null,
   "id": "f57f0780",
   "metadata": {},
   "outputs": [],
   "source": [
    "\"\"\"Complex Networks Analysis Project.\n",
    "\n",
    "* @File    :   Project.ipynb\n",
    "* @Time    :   2025/04/05 18:02:17\n",
    "* @Authors :   Marc Ballestero Ribó and Arnau Jutglar Puig\n",
    "* @Version :   0\n",
    "* @Contact :   marcballestero@ub.edu, ajutglpu7@alumnes.ub.edu\n",
    "* @License :   GNU GPL v3.0\n",
    "* @Desc    :   None\n",
    "\"\"\"\n"
   ]
  },
  {
   "cell_type": "markdown",
   "id": "dd283b3e",
   "metadata": {},
   "source": [
    "# Complex Networks Analysis Project: A Study of the Air Transportation Multiplex Dataset\n",
    "\n",
    "This notebook is devoted to presenting all the code and reasonings of our project for the Complex Networks Analysis course of the Master in Fundamental Principles of Data Science.\n",
    "\n",
    "Here, we analyze the \"Air Transportation Multiplex\" dataset, which contains a multiplex network of airline routes among European airports, where each of the 37 edge types represents routes by a different airline. It is an undirected, multiplex and unweighted network.\n",
    "\n",
    "The notebook is organized in sections each one corresponding to a working week/period. Here's a summary of all the work done:\n",
    "\n",
    "- **`04/04/2025 → 11/04/2025:`**\n",
    "- **`11/04/2025 → 25/04/2025:`**\n",
    "- **`25/04/2025 → 09/05/2025:`**\n",
    "- **`09/04/2025 → 16/05/2025:`**\n",
    "- **`16/05/2025 → 23/05/2025:`**\n",
    "- **`23/05/2025 → 30/05/2025:`**\n",
    "\n",
    "***"
   ]
  }
 ],
 "metadata": {
  "language_info": {
   "name": "python"
  }
 },
 "nbformat": 4,
 "nbformat_minor": 5
}
